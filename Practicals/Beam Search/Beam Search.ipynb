{
 "cells": [
  {
   "cell_type": "markdown",
   "id": "1b716d99",
   "metadata": {},
   "source": [
    "## Practical - Beam Search"
   ]
  },
  {
   "cell_type": "code",
   "execution_count": 5,
   "id": "e97e9988",
   "metadata": {},
   "outputs": [],
   "source": [
    "# Some imports\n",
    "from math import log\n",
    "import numpy as np\n",
    "import json\n",
    "import matplotlib.pyplot as plt"
   ]
  },
  {
   "cell_type": "markdown",
   "id": "ab0b43f2",
   "metadata": {},
   "source": [
    "### First, testing the beam seach code shared in the practical"
   ]
  },
  {
   "cell_type": "code",
   "execution_count": 3,
   "id": "40fbddce",
   "metadata": {},
   "outputs": [],
   "source": [
    "# Beam Search\n",
    "def beam_search_decoder(data, k):\n",
    "    sequences = [[list(), 0.0]]\n",
    "    # Walk over each step in sequence\n",
    "\n",
    "    max_T, max_A = data.shape\n",
    "\n",
    "    # Loop over time\n",
    "    for t in range(max_T):\n",
    "        all_candidates = list()\n",
    "        # Expand each current candidate\n",
    "        for i in range(len(sequences)):\n",
    "            seq, score = sequences[i]\n",
    "            # Loop over possible alphabet outputs\n",
    "            for c in range(max_A):\n",
    "                candidate = [seq + [c], score - log(data[t, c])]\n",
    "                all_candidates.append(candidate)\n",
    "        # Order all candidates by score\n",
    "        ordered = sorted(all_candidates, key=lambda tup:tup[1])\n",
    "        # Select k best\n",
    "        sequences = ordered[:k]\n",
    "    return sequences\n",
    "\n"
   ]
  },
  {
   "cell_type": "code",
   "execution_count": 4,
   "id": "904e89ab",
   "metadata": {},
   "outputs": [
    {
     "name": "stdout",
     "output_type": "stream",
     "text": [
      "0 [[4, 2, 4, 0, 4, 0, 4, 0, 4, 2], 6.931471805599453]\n",
      "1 [[4, 2, 4, 0, 4, 0, 4, 0, 4, 1], 7.154615356913663]\n",
      "2 [[4, 2, 4, 0, 4, 0, 4, 0, 3, 2], 7.154615356913663]\n"
     ]
    }
   ],
   "source": [
    "# define a sequence of 10 words (rows) over a vocab of 5 words (columns), \n",
    "# e.g.\n",
    "#      a  bites cat  dog  the\n",
    "# 1   0.1  0.2  0.3  0.4  0.5\n",
    "# 2   0.5  0.3  0.5  0.2  0.1\n",
    "# ...\n",
    "# 10  0.3  0.4  0.5  0.2  0.1 \n",
    "\n",
    "data = [[0.1, 0.2, 0.3, 0.4, 0.5],\n",
    "        [0.4, 0.3, 0.5, 0.2, 0.1],\n",
    "        [0.1, 0.2, 0.3, 0.4, 0.5],\n",
    "        [0.5, 0.4, 0.3, 0.2, 0.1],\n",
    "        [0.1, 0.2, 0.3, 0.4, 0.5],\n",
    "        [0.5, 0.4, 0.3, 0.2, 0.1],\n",
    "        [0.1, 0.2, 0.3, 0.4, 0.5],\n",
    "        [0.5, 0.4, 0.3, 0.2, 0.1],\n",
    "        [0.1, 0.2, 0.3, 0.4, 0.5],\n",
    "        [0.3, 0.4, 0.5, 0.2, 0.1]]\n",
    "\n",
    "data = np.array(data)\n",
    "\n",
    "beam_width = 3\n",
    "\n",
    "# decode sequence\n",
    "result = beam_search_decoder(data, beam_width)\n",
    "# print result\n",
    "for i, seq in enumerate(result):\n",
    "    print(i, seq)"
   ]
  },
  {
   "cell_type": "markdown",
   "id": "6f262929",
   "metadata": {},
   "source": [
    "### Exercise 1"
   ]
  },
  {
   "cell_type": "code",
   "execution_count": 6,
   "id": "9be6626e",
   "metadata": {},
   "outputs": [],
   "source": [
    "# Function to get rid of the duplicates\n",
    "def de_duplicate(input_str):\n",
    "    if len(input_str) < 2:\n",
    "        return input_str\n",
    "    if input_str[0] != input_str[1]:\n",
    "        return input_str[0]+de_duplicate(input_str[1:])\n",
    "    return de_duplicate(input_str[1:])"
   ]
  },
  {
   "cell_type": "markdown",
   "id": "6d828a1e",
   "metadata": {},
   "source": [
    "#### Collapsing the sequences of the same character"
   ]
  },
  {
   "cell_type": "code",
   "execution_count": 10,
   "id": "d2d6c6d8",
   "metadata": {},
   "outputs": [
    {
     "name": "stdout",
     "output_type": "stream",
     "text": [
      "Sentence :  we mustsois find a newose tholme in the stsar es\n",
      "Sentence :  we mustsois find a newos tholme in the stsar es\n",
      "Sentence :  we mustsois find a newose tholme in the stsar os\n"
     ]
    }
   ],
   "source": [
    "# Loading given output.json\n",
    "output = open('output.json')\n",
    "given_output = json.load(output)\n",
    "\n",
    "logits_ip = given_output['logits']\n",
    "alphabet_ip = given_output['alphabet'] \n",
    "\n",
    "# Using beam search decoder defined earlier \n",
    "beam_width = 3\n",
    "beam_decoder_output = beam_search_decoder(np.array(logits_ip), beam_width)\n",
    "\n",
    "# Processing the output\n",
    "temp_list = []\n",
    "for i in beam_decoder_output:\n",
    "    chars = i[0]\n",
    "    inter_list = []\n",
    "    for j in chars:\n",
    "        inter_list.append(alphabet_ip[j])\n",
    "    temp_list.append(''.join(inter_list))\n",
    "\n",
    "result_list=[]\n",
    "for i in temp_list:\n",
    "    s = de_duplicate(i)\n",
    "    result_list.append(s)\n",
    "    \n",
    "for each_res in result_list:\n",
    "    print('Sentence : ', each_res)"
   ]
  },
  {
   "cell_type": "markdown",
   "id": "8fb2b5fc",
   "metadata": {},
   "source": [
    "### Exercise 2"
   ]
  },
  {
   "cell_type": "code",
   "execution_count": 16,
   "id": "90b51d8b",
   "metadata": {},
   "outputs": [
    {
     "data": {
      "image/png": "[encoded data removed]",
      "text/plain": [
       "<Figure size 432x288 with 1 Axes>"
      ]
     },
     "metadata": {
      "needs_background": "light"
     },
     "output_type": "display_data"
    }
   ],
   "source": [
    "# Plotting the heatmap\n",
    "fig, ax = plt.subplots()\n",
    "im = ax.imshow(np.array(logits_ip))\n",
    "plt.show()"
   ]
  },
  {
   "cell_type": "code",
   "execution_count": null,
   "id": "724cdbbe",
   "metadata": {},
   "outputs": [],
   "source": []
  }
 ],
 "metadata": {
  "kernelspec": {
   "display_name": "Python 3",
   "language": "python",
   "name": "python3"
  },
  "language_info": {
   "codemirror_mode": {
    "name": "ipython",
    "version": 3
   },
   "file_extension": ".py",
   "mimetype": "text/x-python",
   "name": "python",
   "nbconvert_exporter": "python",
   "pygments_lexer": "ipython3",
   "version": "3.8.8"
  }
 },
 "nbformat": 4,
 "nbformat_minor": 5
}
